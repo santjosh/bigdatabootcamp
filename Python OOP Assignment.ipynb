{
 "cells": [
  {
   "cell_type": "markdown",
   "id": "e12ad614",
   "metadata": {},
   "source": [
    "# Q1. What is the purpose of Python's OOP?"
   ]
  },
  {
   "cell_type": "markdown",
   "id": "b7c14089",
   "metadata": {},
   "source": [
    "In Python, object-oriented Programming (OOPs) is a programming paradigm that uses objects and classes in programming. It aims to implement real-world entities like inheritance, polymorphisms, encapsulation, etc. in the programming. The main concept of OOPs is to bind the data and the functions that work on that together as a single unit so that no other part of the code can access this data."
   ]
  },
  {
   "cell_type": "markdown",
   "id": "b61d13b6",
   "metadata": {},
   "source": [
    "# Q2. Where does an inheritance search look for an attribute?"
   ]
  },
  {
   "cell_type": "markdown",
   "id": "d077a3de",
   "metadata": {},
   "source": [
    "An inheritance search looks for an attribute first in the instance object, then in the class the instance was created from, then in all higher superclasses, progressing from left to right (by default). The search stops at the first place the attribute is found."
   ]
  },
  {
   "cell_type": "markdown",
   "id": "f74b8ba0",
   "metadata": {},
   "source": [
    "# Q3. How do you distinguish between a class object and an instance object?"
   ]
  },
  {
   "cell_type": "markdown",
   "id": "232d296a",
   "metadata": {},
   "source": []
  },
  {
   "cell_type": "markdown",
   "id": "45af0407",
   "metadata": {},
   "source": [
    "# Q4. What makes the first argument in a class’s method function special?"
   ]
  },
  {
   "cell_type": "markdown",
   "id": "53d86002",
   "metadata": {},
   "source": [
    "It points to object that is calling the method. So self is used to point the object that is calling the method."
   ]
  },
  {
   "cell_type": "markdown",
   "id": "dbee9af5",
   "metadata": {},
   "source": [
    "# Q5. What is the purpose of the init method?"
   ]
  },
  {
   "cell_type": "markdown",
   "id": "6b7ffd4f",
   "metadata": {},
   "source": [
    "__init__ is like constructor method that is used to initialise the variables of the objects."
   ]
  },
  {
   "cell_type": "markdown",
   "id": "b97ee7d6",
   "metadata": {},
   "source": [
    "# Q6. What is the process for creating a class instance?"
   ]
  },
  {
   "cell_type": "markdown",
   "id": "fa568a55",
   "metadata": {},
   "source": [
    "To create instances of a class, you call the class using class name and pass in whatever arguments its __init__ method accepts."
   ]
  },
  {
   "cell_type": "markdown",
   "id": "52ef884b",
   "metadata": {},
   "source": [
    "# Q7. What is the process for creating a class?"
   ]
  },
  {
   "cell_type": "markdown",
   "id": "43334406",
   "metadata": {},
   "source": [
    "The class statement creates a new class definition. The name of the class immediately follows the keyword class followed by a colon as follows −\n",
    "\n",
    "class ClassName:\n",
    "   'Optional class documentation string'\n",
    "   class_suite\n",
    "   def __init__(self):\n",
    "       "
   ]
  },
  {
   "cell_type": "markdown",
   "id": "a018d1a4",
   "metadata": {},
   "source": [
    "# Q8. How would you define the superclasses of a class?"
   ]
  },
  {
   "cell_type": "markdown",
   "id": "f9b7b9dc",
   "metadata": {},
   "source": [
    "while declaring a class you mention which class you want to inherit in parentheses as shown below:<br>\n",
    "\n",
    "class Parent:<br>\n",
    "  def __init__(self, txt):<br>\n",
    "    self.message = txt<br>\n",
    "\n",
    "  def printmessage(self):<br>\n",
    "    print(self.message)<br>\n",
    "\n",
    "class Child(Parent):<br>\n",
    "  def __init__(self, txt):<br>\n",
    "    super().__init__(txt)<br>\n",
    "\n",
    "x = Child(\"Hello, and welcome!\")<br>\n",
    "\n",
    "x.printmessage()<br>"
   ]
  },
  {
   "cell_type": "markdown",
   "id": "e688b6bc",
   "metadata": {},
   "source": [
    "# Q9. What is the relationship between classes and modules?"
   ]
  },
  {
   "cell_type": "markdown",
   "id": "41aceb6a",
   "metadata": {},
   "source": [
    "Classes are blueprints that allow you to create instances with attributes and bound functionality. Classes support inheritance, metaclasses, and descriptors.\n",
    "\n",
    "Modules can't do any of this, modules are essentially singleton instances of an internal module class, and all their globals are attributes on the module instance. You can manipulate those attributes as needed (add, remove and update), but take into account that these still form the global namespace for all code defined in that module.\n",
    "\n",
    "From a Java perspective, classes are not all that different here. Modules can contain more than just one class however; functions and any the result of any other Python expression can be globals in a module too.\n",
    "\n",
    "So as a general ballpark guideline:\n",
    "\n",
    "Use classes as blueprints for objects that model your problem domain.\n",
    "Use modules to collect functionality into logical units.\n",
    "Then store data where it makes sense to your application. Global state goes in modules (and functions and classes are just as much global state, loaded at the start). Everything else goes into other data structures, including instances of classes."
   ]
  },
  {
   "cell_type": "markdown",
   "id": "fd7ddfb4",
   "metadata": {},
   "source": [
    "# Q10. How do you make instances and classes?"
   ]
  },
  {
   "cell_type": "markdown",
   "id": "772af985",
   "metadata": {},
   "source": [
    "The class statement creates a new class definition. The name of the class immediately follows the keyword class followed by a colon as follows −\n",
    "\n",
    "class ClassName:\n",
    "   'Optional class documentation string'\n",
    "   class_suite\n",
    "   def __init__(self):\n",
    "To create instances of a class, you call the class using class name and pass in whatever arguments its __init__ method accepts."
   ]
  },
  {
   "cell_type": "markdown",
   "id": "94ae57db",
   "metadata": {},
   "source": [
    "# Q11. Where and how should be class attributes created?"
   ]
  },
  {
   "cell_type": "markdown",
   "id": "34a81e18",
   "metadata": {},
   "source": [
    "A class attribute is a Python Variable that belongs to a class rather than a particular object. This is shared between all other objects of the same class and is defined outside the constructor function __init__(self,…), of the class.\n",
    "species is a class attribute and name,age is instance attributes.\n",
    "\n",
    "class Dog:\n",
    "\n",
    "    species = 'mammal'\n",
    "\n",
    "    def __init__(self, name, age):\n",
    "        self.name = name\n",
    "        self.age = age"
   ]
  },
  {
   "cell_type": "markdown",
   "id": "f54c3c22",
   "metadata": {},
   "source": [
    "# Q12. Where and how are instance attributes created?"
   ]
  },
  {
   "cell_type": "markdown",
   "id": "f447cf91",
   "metadata": {},
   "source": [
    "An instance attribute is a Python variable belonging to only one object. It is only accessible in the scope of the object and it is defined inside the constructor function of a class"
   ]
  },
  {
   "cell_type": "markdown",
   "id": "bcf380b4",
   "metadata": {},
   "source": [
    "# Q13. What does the term \"self\" in a Python class mean?"
   ]
  },
  {
   "cell_type": "markdown",
   "id": "1e786791",
   "metadata": {},
   "source": [
    "self refers to its own instance of the class."
   ]
  },
  {
   "cell_type": "markdown",
   "id": "be2351f4",
   "metadata": {},
   "source": [
    "# Q14. How does a Python class handle operator overloading?"
   ]
  },
  {
   "cell_type": "markdown",
   "id": "19be0619",
   "metadata": {},
   "source": []
  },
  {
   "cell_type": "markdown",
   "id": "eaeaef17",
   "metadata": {},
   "source": [
    "# Q15. When do you consider allowing operator overloading of your classes?"
   ]
  },
  {
   "cell_type": "markdown",
   "id": "ef927e61",
   "metadata": {},
   "source": []
  },
  {
   "cell_type": "markdown",
   "id": "f1d9392a",
   "metadata": {},
   "source": [
    "# Q16. What is the most popular form of operator overloading?"
   ]
  },
  {
   "cell_type": "markdown",
   "id": "748ef797",
   "metadata": {},
   "source": []
  },
  {
   "cell_type": "markdown",
   "id": "3b2284bd",
   "metadata": {},
   "source": [
    "# Q17. What are the two most important concepts to grasp in order to comprehend Python OOP code?"
   ]
  },
  {
   "cell_type": "markdown",
   "id": "82ed4f74",
   "metadata": {},
   "source": [
    "Inheritance and Polymorphism."
   ]
  },
  {
   "cell_type": "markdown",
   "id": "d615a7dd",
   "metadata": {},
   "source": [
    "# Q18. Describe three applications for exception processing."
   ]
  },
  {
   "cell_type": "markdown",
   "id": "b8465877",
   "metadata": {},
   "source": [
    "To make sure errors are handled properly.<br>\n",
    "To print error logs to help debug the flow of the program.<br>\n",
    "To stop processing if any errors happens.<br>"
   ]
  },
  {
   "cell_type": "markdown",
   "id": "006fae46",
   "metadata": {},
   "source": [
    "# Q19. What happens if you don't do something extra to treat an exception?"
   ]
  },
  {
   "cell_type": "markdown",
   "id": "50e4fdf6",
   "metadata": {},
   "source": []
  },
  {
   "cell_type": "markdown",
   "id": "2968fe60",
   "metadata": {},
   "source": [
    "# Q20. What are your options for recovering from an exception in your script?"
   ]
  },
  {
   "cell_type": "markdown",
   "id": "1378363f",
   "metadata": {},
   "source": [
    "By using try except finally block of code"
   ]
  },
  {
   "cell_type": "markdown",
   "id": "d96038a8",
   "metadata": {},
   "source": [
    "# Q21. Describe two methods for triggering exceptions in your script."
   ]
  },
  {
   "cell_type": "markdown",
   "id": "9513e29e",
   "metadata": {},
   "source": [
    "Using raise Exception() and assertError() calls."
   ]
  },
  {
   "cell_type": "markdown",
   "id": "15e7cb4e",
   "metadata": {},
   "source": [
    "# Q22. Identify two methods for specifying actions to be executed at termination time, regardless of whether or not an exception exists."
   ]
  },
  {
   "cell_type": "markdown",
   "id": "25f7151c",
   "metadata": {},
   "source": [
    "The finally block will be executed no matter if the try block raises an error or not.\n",
    "\n",
    "This can be useful to close objects and clean up resources."
   ]
  },
  {
   "cell_type": "markdown",
   "id": "5cb8a93a",
   "metadata": {},
   "source": [
    "# Q23. What is the purpose of the try statement?"
   ]
  },
  {
   "cell_type": "markdown",
   "id": "3127f651",
   "metadata": {},
   "source": [
    "try statement is used to execute code but if anything goes wrong it will stop execution at that point."
   ]
  },
  {
   "cell_type": "markdown",
   "id": "1358f8ae",
   "metadata": {},
   "source": [
    "# Q24. What are the two most popular try statement variations?"
   ]
  },
  {
   "cell_type": "markdown",
   "id": "a13b16c7",
   "metadata": {},
   "source": [
    "Using try except combination and try except else combination\n",
    "\n",
    "try:\n",
    "  print(\"Hello\")\n",
    "  1/0\n",
    "except:\n",
    "  print(\"Something went wrong\")\n",
    "else:\n",
    "  print(\"Nothing went wrong\")\n",
    "finally:\n",
    "  print(\"finally printing\")\n",
    "  \n",
    "  \n",
    "try:\n",
    "  print(\"Hello\")\n",
    "  1/0\n",
    "except:\n",
    "  print(\"Something went wrong\")\n",
    "finally:\n",
    "  print(\"finally printing\")  "
   ]
  },
  {
   "cell_type": "markdown",
   "id": "2123fb45",
   "metadata": {},
   "source": [
    "# Q25. What is the purpose of the raise statement?"
   ]
  },
  {
   "cell_type": "markdown",
   "id": "d10d72a2",
   "metadata": {},
   "source": [
    "Python raise Keyword is used to raise exceptions or errors. The raise keyword raises an error and stops the control flow of the program. It is used to bring up the current exception in an exception handler so that it can be handled further up the call stack"
   ]
  },
  {
   "cell_type": "markdown",
   "id": "d36de2f3",
   "metadata": {},
   "source": [
    "# Q26. What does the assert statement do, and what other statement is it like?"
   ]
  },
  {
   "cell_type": "markdown",
   "id": "8a1ec72f",
   "metadata": {},
   "source": [
    "The assert keyword is used when debugging code.\n",
    "\n",
    "The assert keyword lets you test if a condition in your code returns True, if not, the program will raise an AssertionError."
   ]
  },
  {
   "cell_type": "markdown",
   "id": "f699471b",
   "metadata": {},
   "source": [
    "# Q27. What is the purpose of the with/as argument, and what other statement is  it like?"
   ]
  },
  {
   "cell_type": "markdown",
   "id": "b67db5d4",
   "metadata": {},
   "source": [
    "with statement is used in exception handling to make the code cleaner and much more readable. It simplifies the management of common resources like file streams\n",
    "\n",
    "It is similar to try finally"
   ]
  },
  {
   "cell_type": "markdown",
   "id": "b68a9e9e",
   "metadata": {},
   "source": [
    "# Q28. What are *args, **kwargs?"
   ]
  },
  {
   "cell_type": "markdown",
   "id": "5cc1429d",
   "metadata": {},
   "source": [
    "*args and **kwargs allow you to pass multiple arguments or keyword arguments to a function. "
   ]
  },
  {
   "cell_type": "markdown",
   "id": "2ca569a1",
   "metadata": {},
   "source": [
    "# Q29. How can I pass optional or keyword parameters from one function to another?"
   ]
  },
  {
   "cell_type": "markdown",
   "id": "81049b2f",
   "metadata": {},
   "source": [
    "By using *args or **kwargs in function defination"
   ]
  },
  {
   "cell_type": "markdown",
   "id": "d9615c7d",
   "metadata": {},
   "source": [
    "# Q30. What are Lambda Functions?"
   ]
  },
  {
   "cell_type": "markdown",
   "id": "13911fd9",
   "metadata": {},
   "source": [
    "Python Lambda Functions are anonymous function means that the function is without a name. As we already know that the def keyword is used to define a normal function in Python. Similarly, the lambda keyword is used to define an anonymous function in Python"
   ]
  },
  {
   "cell_type": "markdown",
   "id": "3a1261fa",
   "metadata": {},
   "source": [
    "# Q31. Explain Inheritance in Python with an example?"
   ]
  },
  {
   "cell_type": "markdown",
   "id": "54b6e45c",
   "metadata": {},
   "source": [
    "It refers to defining a new class with little or no modification to an existing class. The new class is called derived (or child) class and the one from which it inherits is called the base (or parent) class.\n",
    "Derived class inherits features from the base class where new features can be added to it. This results in re-usability of code.\n",
    "\n",
    "class Polygon:\n",
    "    def __init__(self, no_of_sides):\n",
    "        self.n = no_of_sides\n",
    "        self.sides = [0 for i in range(no_of_sides)]\n",
    "\n",
    "    def inputSides(self):\n",
    "        self.sides = [float(input(\"Enter side \"+str(i+1)+\" : \")) for i in range(self.n)]\n",
    "\n",
    "    def dispSides(self):\n",
    "        for i in range(self.n):\n",
    "            print(\"Side\",i+1,\"is\",self.sides[i])\n",
    "\n",
    "class Triangle(Polygon):\n",
    "    def __init__(self):\n",
    "        Polygon.__init__(self,3)\n",
    "\n",
    "    def findArea(self):\n",
    "        a, b, c = self.sides\n",
    "        # calculate the semi-perimeter\n",
    "        s = (a + b + c) / 2\n",
    "        area = (s*(s-a)*(s-b)*(s-c)) ** 0.5\n",
    "        print('The area of the triangle is %0.2f' %area)"
   ]
  },
  {
   "cell_type": "markdown",
   "id": "b6cd7205",
   "metadata": {},
   "source": [
    "# Q32. Suppose class C inherits from classes A and B as class C(A,B).Classes A and B both have their own versions of method func(). If we call func() from an object of class C, which version gets invoked?"
   ]
  },
  {
   "cell_type": "markdown",
   "id": "44802324",
   "metadata": {},
   "source": [
    "Class A version will be invoked since the order of inheritance A first then B."
   ]
  },
  {
   "cell_type": "markdown",
   "id": "6d5efa6f",
   "metadata": {},
   "source": [
    "# Q33. Which methods/functions do we use to determine the type of instance and inheritance?"
   ]
  },
  {
   "cell_type": "markdown",
   "id": "a98cbd81",
   "metadata": {},
   "source": [
    "isinstance() and issubclass()"
   ]
  },
  {
   "cell_type": "markdown",
   "id": "d5cfc9cd",
   "metadata": {},
   "source": [
    "# Q34.Explain the use of the 'nonlocal' keyword in Python."
   ]
  },
  {
   "cell_type": "markdown",
   "id": "424b819f",
   "metadata": {},
   "source": [
    "The nonlocal keyword is used to work with variables inside nested functions, where the variable should not belong to the inner function."
   ]
  },
  {
   "cell_type": "markdown",
   "id": "cf65337f",
   "metadata": {},
   "source": [
    "# Q35. What is the global keyword?"
   ]
  },
  {
   "cell_type": "markdown",
   "id": "af2b991f",
   "metadata": {},
   "source": [
    "A global keyword is a keyword that allows a user to modify a variable outside the current scope. It is used to create global variables in Python from a non-global scope, i.e. inside a function. Global keyword is used inside a function only when we want to do assignments or when we want to change a variable. Global is not needed for printing and accessing."
   ]
  },
  {
   "cell_type": "code",
   "execution_count": null,
   "id": "41616542",
   "metadata": {},
   "outputs": [],
   "source": []
  }
 ],
 "metadata": {
  "kernelspec": {
   "display_name": "Python 3 (ipykernel)",
   "language": "python",
   "name": "python3"
  },
  "language_info": {
   "codemirror_mode": {
    "name": "ipython",
    "version": 3
   },
   "file_extension": ".py",
   "mimetype": "text/x-python",
   "name": "python",
   "nbconvert_exporter": "python",
   "pygments_lexer": "ipython3",
   "version": "3.9.13"
  }
 },
 "nbformat": 4,
 "nbformat_minor": 5
}
