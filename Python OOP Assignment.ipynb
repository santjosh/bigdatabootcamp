{
 "cells": [
  {
   "cell_type": "markdown",
   "id": "1668dc29",
   "metadata": {},
   "source": [
    "# Q1. What is the purpose of Python's OOP?"
   ]
  },
  {
   "cell_type": "markdown",
   "id": "c78853df",
   "metadata": {},
   "source": []
  },
  {
   "cell_type": "markdown",
   "id": "a43de0f9",
   "metadata": {},
   "source": [
    "# Q1. What is the purpose of Python's OOP?"
   ]
  },
  {
   "cell_type": "markdown",
   "id": "67ca2e2b",
   "metadata": {},
   "source": []
  },
  {
   "cell_type": "markdown",
   "id": "2cc3b8e5",
   "metadata": {},
   "source": [
    "# Q2. Where does an inheritance search look for an attribute?"
   ]
  },
  {
   "cell_type": "markdown",
   "id": "6969ff6a",
   "metadata": {},
   "source": []
  },
  {
   "cell_type": "markdown",
   "id": "af9d2ccb",
   "metadata": {},
   "source": [
    "# Q3. How do you distinguish between a class object and an instance object?"
   ]
  },
  {
   "cell_type": "markdown",
   "id": "18168261",
   "metadata": {},
   "source": []
  },
  {
   "cell_type": "markdown",
   "id": "43951790",
   "metadata": {},
   "source": [
    "# Q4. What makes the first argument in a class’s method function special?"
   ]
  },
  {
   "cell_type": "markdown",
   "id": "70fba9b3",
   "metadata": {},
   "source": []
  },
  {
   "cell_type": "markdown",
   "id": "9a39c59c",
   "metadata": {},
   "source": []
  },
  {
   "cell_type": "markdown",
   "id": "062c067f",
   "metadata": {},
   "source": [
    "# Q5. What is the purpose of the init method?"
   ]
  },
  {
   "cell_type": "markdown",
   "id": "137840ce",
   "metadata": {},
   "source": []
  },
  {
   "cell_type": "markdown",
   "id": "93513858",
   "metadata": {},
   "source": [
    "# Q6. What is the process for creating a class instance?"
   ]
  },
  {
   "cell_type": "markdown",
   "id": "6f0afa94",
   "metadata": {},
   "source": []
  },
  {
   "cell_type": "markdown",
   "id": "84e51ad6",
   "metadata": {},
   "source": [
    "# Q7. What is the process for creating a class?"
   ]
  },
  {
   "cell_type": "markdown",
   "id": "4dd60ff2",
   "metadata": {},
   "source": []
  },
  {
   "cell_type": "markdown",
   "id": "a501323f",
   "metadata": {},
   "source": [
    "# Q8. How would you define the superclasses of a class?"
   ]
  },
  {
   "cell_type": "markdown",
   "id": "668d9a46",
   "metadata": {},
   "source": []
  },
  {
   "cell_type": "markdown",
   "id": "2db025a4",
   "metadata": {},
   "source": [
    "# Q9. What is the relationship between classes and modules?"
   ]
  },
  {
   "cell_type": "markdown",
   "id": "db289e12",
   "metadata": {},
   "source": []
  },
  {
   "cell_type": "markdown",
   "id": "7ae996ef",
   "metadata": {},
   "source": []
  },
  {
   "cell_type": "markdown",
   "id": "ff99eb6c",
   "metadata": {},
   "source": [
    "# Q10. How do you make instances and classes?"
   ]
  },
  {
   "cell_type": "markdown",
   "id": "02117b24",
   "metadata": {},
   "source": []
  },
  {
   "cell_type": "markdown",
   "id": "ac68254a",
   "metadata": {},
   "source": [
    "# Q11. Where and how should be class attributes created?"
   ]
  },
  {
   "cell_type": "markdown",
   "id": "472b7872",
   "metadata": {},
   "source": []
  },
  {
   "cell_type": "markdown",
   "id": "00de6586",
   "metadata": {},
   "source": [
    "# Q12. Where and how are instance attributes created?"
   ]
  },
  {
   "cell_type": "markdown",
   "id": "a01cc686",
   "metadata": {},
   "source": []
  },
  {
   "cell_type": "markdown",
   "id": "d2700463",
   "metadata": {},
   "source": [
    "# Q13. What does the term \"self\" in a Python class mean?"
   ]
  },
  {
   "cell_type": "markdown",
   "id": "111165bf",
   "metadata": {},
   "source": []
  },
  {
   "cell_type": "markdown",
   "id": "0b4eef14",
   "metadata": {},
   "source": [
    "# Q14. How does a Python class handle operator overloading?"
   ]
  },
  {
   "cell_type": "markdown",
   "id": "be8441d6",
   "metadata": {},
   "source": []
  },
  {
   "cell_type": "markdown",
   "id": "5074714a",
   "metadata": {},
   "source": [
    "# Q15. When do you consider allowing operator overloading of your classes?"
   ]
  },
  {
   "cell_type": "markdown",
   "id": "11f9fefb",
   "metadata": {},
   "source": []
  },
  {
   "cell_type": "markdown",
   "id": "2f0831d4",
   "metadata": {},
   "source": [
    "# Q16. What is the most popular form of operator overloading?"
   ]
  },
  {
   "cell_type": "markdown",
   "id": "6c12e025",
   "metadata": {},
   "source": []
  },
  {
   "cell_type": "markdown",
   "id": "9cd522eb",
   "metadata": {},
   "source": [
    "# Q17. What are the two most important concepts to grasp in order to comprehend Python OOP code?"
   ]
  },
  {
   "cell_type": "markdown",
   "id": "c010e0cc",
   "metadata": {},
   "source": []
  },
  {
   "cell_type": "markdown",
   "id": "b4df2504",
   "metadata": {},
   "source": [
    "# Q18. Describe three applications for exception processing."
   ]
  },
  {
   "cell_type": "markdown",
   "id": "f8b25027",
   "metadata": {},
   "source": []
  },
  {
   "cell_type": "markdown",
   "id": "ef42aa6a",
   "metadata": {},
   "source": [
    "# Q19. What happens if you don't do something extra to treat an exception?"
   ]
  },
  {
   "cell_type": "markdown",
   "id": "1c12e674",
   "metadata": {},
   "source": []
  },
  {
   "cell_type": "markdown",
   "id": "a4866ac3",
   "metadata": {},
   "source": [
    "# Q20. What are your options for recovering from an exception in your script?"
   ]
  },
  {
   "cell_type": "markdown",
   "id": "7d5ec488",
   "metadata": {},
   "source": []
  },
  {
   "cell_type": "markdown",
   "id": "4bb6eafc",
   "metadata": {},
   "source": [
    "# Q21. Describe two methods for triggering exceptions in your script."
   ]
  },
  {
   "cell_type": "markdown",
   "id": "c698503d",
   "metadata": {},
   "source": []
  },
  {
   "cell_type": "markdown",
   "id": "7ae70cea",
   "metadata": {},
   "source": [
    "# Q22. Identify two methods for specifying actions to be executed at termination time, regardless of whether or not an exception exists."
   ]
  },
  {
   "cell_type": "markdown",
   "id": "dafa8e1a",
   "metadata": {},
   "source": []
  },
  {
   "cell_type": "markdown",
   "id": "d8854735",
   "metadata": {},
   "source": [
    "# Q23. What is the purpose of the try statement?"
   ]
  },
  {
   "cell_type": "markdown",
   "id": "4250f11d",
   "metadata": {},
   "source": []
  },
  {
   "cell_type": "markdown",
   "id": "5c2c94a5",
   "metadata": {},
   "source": [
    "# Q24. What are the two most popular try statement variations?"
   ]
  },
  {
   "cell_type": "markdown",
   "id": "04596754",
   "metadata": {},
   "source": []
  },
  {
   "cell_type": "markdown",
   "id": "4985992f",
   "metadata": {},
   "source": [
    "# Q25. What is the purpose of the raise statement?"
   ]
  },
  {
   "cell_type": "markdown",
   "id": "d0bcd6f9",
   "metadata": {},
   "source": []
  },
  {
   "cell_type": "markdown",
   "id": "4616fb6c",
   "metadata": {},
   "source": [
    "# Q26. What does the assert statement do, and what other statement is it like?"
   ]
  },
  {
   "cell_type": "markdown",
   "id": "302c637f",
   "metadata": {},
   "source": []
  },
  {
   "cell_type": "markdown",
   "id": "82cdc486",
   "metadata": {},
   "source": [
    "# Q27. What is the purpose of the with/as argument, and what other statement is  it like?"
   ]
  },
  {
   "cell_type": "markdown",
   "id": "d078bc21",
   "metadata": {},
   "source": []
  },
  {
   "cell_type": "markdown",
   "id": "686ea11a",
   "metadata": {},
   "source": [
    "# Q28. What are *args, **kwargs?"
   ]
  },
  {
   "cell_type": "markdown",
   "id": "802f21a5",
   "metadata": {},
   "source": []
  },
  {
   "cell_type": "markdown",
   "id": "eae31109",
   "metadata": {},
   "source": [
    "# Q29. How can I pass optional or keyword parameters from one function to another?"
   ]
  },
  {
   "cell_type": "markdown",
   "id": "9b57d931",
   "metadata": {},
   "source": []
  },
  {
   "cell_type": "markdown",
   "id": "cfb0f153",
   "metadata": {},
   "source": []
  },
  {
   "cell_type": "markdown",
   "id": "4927dd29",
   "metadata": {},
   "source": [
    "# Q30. What are Lambda Functions?"
   ]
  },
  {
   "cell_type": "markdown",
   "id": "91a6a4e1",
   "metadata": {},
   "source": []
  },
  {
   "cell_type": "markdown",
   "id": "d2f964c3",
   "metadata": {},
   "source": [
    "# Q31. Explain Inheritance in Python with an example?"
   ]
  },
  {
   "cell_type": "markdown",
   "id": "cfe92106",
   "metadata": {},
   "source": []
  },
  {
   "cell_type": "markdown",
   "id": "0264c8b0",
   "metadata": {},
   "source": [
    "# Q32. Suppose class C inherits from classes A and B as class C(A,B).Classes A and B both have their own versions of method func(). If we call func() from an object of class C, which version gets invoked?"
   ]
  },
  {
   "cell_type": "markdown",
   "id": "935430c9",
   "metadata": {},
   "source": []
  },
  {
   "cell_type": "markdown",
   "id": "c0c478d5",
   "metadata": {},
   "source": [
    "# Q33. Which methods/functions do we use to determine the type of instance and inheritance?"
   ]
  },
  {
   "cell_type": "markdown",
   "id": "89cb7ac0",
   "metadata": {},
   "source": []
  },
  {
   "cell_type": "markdown",
   "id": "bd3e9196",
   "metadata": {},
   "source": []
  },
  {
   "cell_type": "markdown",
   "id": "c5cd0ddc",
   "metadata": {},
   "source": [
    "# Q34.Explain the use of the 'nonlocal' keyword in Python."
   ]
  },
  {
   "cell_type": "markdown",
   "id": "86c3732e",
   "metadata": {},
   "source": []
  },
  {
   "cell_type": "markdown",
   "id": "9bc8be73",
   "metadata": {},
   "source": [
    "# Q35. What is the global keyword?"
   ]
  },
  {
   "cell_type": "markdown",
   "id": "014c34f7",
   "metadata": {},
   "source": []
  },
  {
   "cell_type": "code",
   "execution_count": null,
   "id": "e6df3c6e",
   "metadata": {},
   "outputs": [],
   "source": []
  }
 ],
 "metadata": {
  "kernelspec": {
   "display_name": "Python 3 (ipykernel)",
   "language": "python",
   "name": "python3"
  },
  "language_info": {
   "codemirror_mode": {
    "name": "ipython",
    "version": 3
   },
   "file_extension": ".py",
   "mimetype": "text/x-python",
   "name": "python",
   "nbconvert_exporter": "python",
   "pygments_lexer": "ipython3",
   "version": "3.9.13"
  }
 },
 "nbformat": 4,
 "nbformat_minor": 5
}
