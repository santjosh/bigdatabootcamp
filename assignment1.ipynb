{
 "cells": [
  {
   "cell_type": "markdown",
   "id": "5505d0ec",
   "metadata": {},
   "source": [
    "# Q1. Why do we call Python as a general purpose and high-level programming language?"
   ]
  },
  {
   "cell_type": "markdown",
   "id": "ca90efbb",
   "metadata": {},
   "source": [
    "# Q2. Why is Python called a dynamically typed language?"
   ]
  },
  {
   "cell_type": "markdown",
   "id": "94f91d23",
   "metadata": {},
   "source": [
    "# Q3. List some pros and cons of Python programming language?"
   ]
  },
  {
   "cell_type": "code",
   "execution_count": null,
   "id": "6297438c",
   "metadata": {},
   "outputs": [],
   "source": [
    "In what all domains can we use Python?"
   ]
  },
  {
   "cell_type": "code",
   "execution_count": null,
   "id": "ff87fada",
   "metadata": {},
   "outputs": [],
   "source": [
    "What are variable and how can we declare them?"
   ]
  },
  {
   "cell_type": "markdown",
   "id": "0e3692a9",
   "metadata": {},
   "source": [
    "# Q6. How can we take an input from the user in Python?"
   ]
  },
  {
   "cell_type": "markdown",
   "id": "f88437ec",
   "metadata": {},
   "source": [
    "By using the input() function call."
   ]
  },
  {
   "cell_type": "markdown",
   "id": "12843fa9",
   "metadata": {},
   "source": [
    "# Q7. What is the default datatype of the value that has been taken as an input using input() function?"
   ]
  },
  {
   "cell_type": "markdown",
   "id": "5e89b0ba",
   "metadata": {},
   "source": [
    "It is string by default...str."
   ]
  },
  {
   "cell_type": "markdown",
   "id": "e8b8afa5",
   "metadata": {},
   "source": [
    "# Q8. What is type casting?"
   ]
  },
  {
   "cell_type": "markdown",
   "id": "276dc31e",
   "metadata": {},
   "source": [
    "By using the type function we can change the datatype of var from one to another...like string to int."
   ]
  },
  {
   "cell_type": "markdown",
   "id": "8796a541",
   "metadata": {},
   "source": [
    "# Q9. Can we take more than one input from the user using single input() function? If yes, how? If no, why?"
   ]
  },
  {
   "cell_type": "markdown",
   "id": "081a4710",
   "metadata": {},
   "source": [
    "Yes you can take more than one input from input() function..by space separated values."
   ]
  },
  {
   "cell_type": "markdown",
   "id": "fde14f77",
   "metadata": {},
   "source": [
    "# Q9. What are keywords?"
   ]
  },
  {
   "cell_type": "code",
   "execution_count": null,
   "id": "1b8b2506",
   "metadata": {},
   "outputs": [],
   "source": [
    "Can we use keywords as a variable? Support your answer with reason."
   ]
  },
  {
   "cell_type": "code",
   "execution_count": null,
   "id": "bc08cc38",
   "metadata": {},
   "outputs": [],
   "source": [
    "What is indentation? What's the use of indentaion in Python?"
   ]
  },
  {
   "cell_type": "markdown",
   "id": "4adc5655",
   "metadata": {},
   "source": [
    "# Q13. How can we throw some output in Python?"
   ]
  },
  {
   "cell_type": "markdown",
   "id": "4270c614",
   "metadata": {},
   "source": [
    "By using print() function"
   ]
  },
  {
   "cell_type": "markdown",
   "id": "73a8c895",
   "metadata": {},
   "source": [
    "# Q14.  What are operators in Python?"
   ]
  },
  {
   "cell_type": "markdown",
   "id": "0a34e6ec",
   "metadata": {},
   "source": [
    "# Q15. What is difference between / and // operators?"
   ]
  },
  {
   "cell_type": "markdown",
   "id": "adbf8837",
   "metadata": {},
   "source": [
    "/ is regular division(returns float) and // is floor division(returns int)."
   ]
  },
  {
   "cell_type": "markdown",
   "id": "53b42fb0",
   "metadata": {},
   "source": [
    "# Q16. Write a code that gives following as an output.\n",
    "```\n",
    "iNeuroniNeuroniNeuroniNeuron\n",
    "```"
   ]
  },
  {
   "cell_type": "code",
   "execution_count": 29,
   "id": "6dcadbbb",
   "metadata": {},
   "outputs": [
    {
     "name": "stdout",
     "output_type": "stream",
     "text": [
      "iNeuroniNeuroniNeuroniNeuron"
     ]
    }
   ],
   "source": [
    "s = 'iNeuron'\n",
    "for i in range(4):\n",
    "    print(s,end='')"
   ]
  },
  {
   "cell_type": "markdown",
   "id": "02aa9abd",
   "metadata": {},
   "source": [
    "# Q17. Write a code to take a number as an input from the user and check if the number is odd or even."
   ]
  },
  {
   "cell_type": "code",
   "execution_count": 30,
   "id": "3e757010",
   "metadata": {},
   "outputs": [
    {
     "name": "stdout",
     "output_type": "stream",
     "text": [
      "3\n",
      "Number is odd\n"
     ]
    }
   ],
   "source": [
    "user_input = input()\n",
    "num_input = int(user_input)\n",
    "if num_input%2 ==0:\n",
    "    print(\"number is even\")\n",
    "else:\n",
    "    print(\"Number is odd\")"
   ]
  },
  {
   "cell_type": "code",
   "execution_count": null,
   "id": "1bf12386",
   "metadata": {},
   "outputs": [],
   "source": [
    "What are boolean operator?"
   ]
  },
  {
   "cell_type": "markdown",
   "id": "a818f248",
   "metadata": {},
   "source": [
    "# Q19. What will the output of the following?\n",
    "```\n",
    "1 or 0\n",
    "\n",
    "0 and 0\n",
    "\n",
    "True and False and True\n",
    "\n",
    "1 or 0 or 0\n",
    "```"
   ]
  },
  {
   "cell_type": "markdown",
   "id": "74739827",
   "metadata": {},
   "source": [
    "1 or 0 is True....\n",
    "0 and 0 is False....\n",
    "True and False and True is False....\n",
    "1 or 0 or 0 is True."
   ]
  },
  {
   "cell_type": "code",
   "execution_count": null,
   "id": "788206c7",
   "metadata": {},
   "outputs": [],
   "source": [
    "Q20. What are conditional statements in Python?"
   ]
  },
  {
   "cell_type": "code",
   "execution_count": null,
   "id": "4454e4db",
   "metadata": {},
   "outputs": [],
   "source": [
    "Q21. What is use of 'if', 'elif' and 'else' keywords?"
   ]
  },
  {
   "cell_type": "markdown",
   "id": "7de4dcf3",
   "metadata": {},
   "source": [
    "# Q22. Write a code to take the age of person as an input and if age >= 18 display \"I can vote\". If age is < 18 display \"I can't vote\"."
   ]
  },
  {
   "cell_type": "code",
   "execution_count": 28,
   "id": "e519d5e3",
   "metadata": {},
   "outputs": [
    {
     "name": "stdout",
     "output_type": "stream",
     "text": [
      "17\n",
      "I can't vote\n"
     ]
    }
   ],
   "source": [
    "user_input = input()\n",
    "age= int(user_input)\n",
    "\n",
    "if age >=18:\n",
    "    print(\"I can vote\")\n",
    "    \n",
    "if age <18:\n",
    "    print(\"I can't vote\")"
   ]
  },
  {
   "cell_type": "markdown",
   "id": "81ea4f0a",
   "metadata": {},
   "source": [
    "# Q23. Write a code that displays the sum of all the even numbers from the given list."
   ]
  },
  {
   "cell_type": "code",
   "execution_count": 27,
   "id": "2c86937b",
   "metadata": {},
   "outputs": [
    {
     "name": "stdout",
     "output_type": "stream",
     "text": [
      "392\n"
     ]
    }
   ],
   "source": [
    "numbers = [12, 75, 150, 180, 145, 525, 50]\n",
    "sum=0;\n",
    "for num in numbers:\n",
    "    if num%2==0:\n",
    "      sum+=num;\n",
    "    \n",
    "print(sum)    "
   ]
  },
  {
   "cell_type": "markdown",
   "id": "018a4746",
   "metadata": {},
   "source": [
    "# Q24. Write a code to take 3 numbers as an input from the user and display the greatest no as output."
   ]
  },
  {
   "cell_type": "code",
   "execution_count": 40,
   "id": "4f9fbb00",
   "metadata": {},
   "outputs": [
    {
     "name": "stdout",
     "output_type": "stream",
     "text": [
      "1 2\n",
      "['1', '2']\n",
      "3\n"
     ]
    }
   ],
   "source": [
    "user_input=input()\n",
    "numbers=user_input.split(\" \")\n",
    "print(numbers)\n",
    "num1=input()"
   ]
  },
  {
   "cell_type": "markdown",
   "id": "da973771",
   "metadata": {},
   "source": [
    "# Q25. Write a program to display only those numbers from a list that satisfy the following conditions\n",
    "- The number must be divisible by five\n",
    "\n",
    "- If the number is greater than 150, then skip it and move to the next number\n",
    "\n",
    "- If the number is greater than 500, then stop the loop\n",
    "```\n",
    "numbers = [12, 75, 150, 180, 145, 525, 50]\n",
    "```"
   ]
  },
  {
   "cell_type": "code",
   "execution_count": 35,
   "id": "c2d9f475",
   "metadata": {},
   "outputs": [
    {
     "name": "stdout",
     "output_type": "stream",
     "text": [
      "75\n",
      "150\n",
      "145\n"
     ]
    }
   ],
   "source": [
    "numbers = [12, 75, 150, 180, 145, 525, 50]\n",
    "for num in numbers:\n",
    "    if(num>500):\n",
    "        break;\n",
    "    elif(num % 5==0 and num<=150):\n",
    "        print(num)"
   ]
  }
 ],
 "metadata": {
  "kernelspec": {
   "display_name": "Python 3 (ipykernel)",
   "language": "python",
   "name": "python3"
  },
  "language_info": {
   "codemirror_mode": {
    "name": "ipython",
    "version": 3
   },
   "file_extension": ".py",
   "mimetype": "text/x-python",
   "name": "python",
   "nbconvert_exporter": "python",
   "pygments_lexer": "ipython3",
   "version": "3.9.13"
  }
 },
 "nbformat": 4,
 "nbformat_minor": 5
}
