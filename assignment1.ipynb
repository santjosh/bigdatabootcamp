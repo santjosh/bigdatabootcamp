{
 "cells": [
  {
   "cell_type": "markdown",
   "id": "f3a40b40",
   "metadata": {},
   "source": [
    "# Q1. Why do we call Python as a general purpose and high-level programming language?"
   ]
  },
  {
   "cell_type": "markdown",
   "id": "066e2fc9",
   "metadata": {},
   "source": [
    "A general-purpose programming language is one that’s usable (not just theoretically, but practically) for solving a very wide range of different kinds of problems."
   ]
  },
  {
   "cell_type": "markdown",
   "id": "55bc2d9b",
   "metadata": {},
   "source": [
    "# Q2. Why is Python called a dynamically typed language?"
   ]
  },
  {
   "cell_type": "markdown",
   "id": "37d8b508",
   "metadata": {},
   "source": [
    " It doesn’t know about the type of the variable until the code is run. So declaration is of no use. What it does is, It stores that value at some memory location and then binds that variable name to that memory container. And makes the contents of the container accessible through that variable name. So the data type does not matter. As it will get to know the type of the value at run-time."
   ]
  },
  {
   "cell_type": "markdown",
   "id": "3654491f",
   "metadata": {},
   "source": [
    "# Q3. List some pros and cons of Python programming language?"
   ]
  },
  {
   "cell_type": "markdown",
   "id": "4ea9220a",
   "metadata": {},
   "source": [
    "PROS:<br>\n",
    "Python is easy to learn and read<br>\n",
    "Python enhances productivity.<br>\n",
    "Python has a vast collection of libraries.<br>\n",
    "Python is free, open-source, and has a vibrant community.<br>\n",
    "Python is a portable programming language.<br>\n",
    "\n",
    "CONS:<br>\n",
    "Python has speed limitations.<br>\n",
    "Python is not so strong with mobile computing.<br>\n",
    "Python can have runtime errors.<br>\n",
    "Python consumes a lot of memory space.<br>"
   ]
  },
  {
   "cell_type": "markdown",
   "id": "717637de",
   "metadata": {},
   "source": [
    "# Q4. In what all domains can we use Python?"
   ]
  },
  {
   "cell_type": "markdown",
   "id": "e55c4ca9",
   "metadata": {},
   "source": [
    "It used in most of the domains like Web development, Data science , Finance, AI, ML, etc.."
   ]
  },
  {
   "cell_type": "markdown",
   "id": "b6e4edba",
   "metadata": {},
   "source": [
    "# Q5. What are variable and how can we declare them?"
   ]
  },
  {
   "cell_type": "markdown",
   "id": "d0c20f9b",
   "metadata": {},
   "source": [
    "Variable is a pointer to memory where the data will reside. Since python is dynamically typed, we cant declare variable..we can assign values directly."
   ]
  },
  {
   "cell_type": "markdown",
   "id": "74d1c42c",
   "metadata": {},
   "source": [
    "# Q6. How can we take an input from the user in Python?"
   ]
  },
  {
   "cell_type": "markdown",
   "id": "8fa24f61",
   "metadata": {},
   "source": [
    "By using the input() function call."
   ]
  },
  {
   "cell_type": "markdown",
   "id": "c392c2e3",
   "metadata": {},
   "source": [
    "# Q7. What is the default datatype of the value that has been taken as an input using input() function?"
   ]
  },
  {
   "cell_type": "markdown",
   "id": "4efd07ad",
   "metadata": {},
   "source": [
    "It is string by default...str."
   ]
  },
  {
   "cell_type": "markdown",
   "id": "f98b676e",
   "metadata": {},
   "source": [
    "# Q8. What is type casting?"
   ]
  },
  {
   "cell_type": "markdown",
   "id": "c412b64f",
   "metadata": {},
   "source": [
    "By using the type function we can change the datatype of var from one to another...like string to int."
   ]
  },
  {
   "cell_type": "markdown",
   "id": "7f7adb82",
   "metadata": {},
   "source": [
    "# Q9. Can we take more than one input from the user using single input() function? If yes, how? If no, why?"
   ]
  },
  {
   "cell_type": "markdown",
   "id": "f2b6ee5e",
   "metadata": {},
   "source": [
    "Yes you can take more than one input from input() function..by space separated values."
   ]
  },
  {
   "cell_type": "markdown",
   "id": "f557efee",
   "metadata": {},
   "source": [
    "# Q10. What are keywords?"
   ]
  },
  {
   "cell_type": "markdown",
   "id": "2d6fef7d",
   "metadata": {},
   "source": [
    "Keywords are some predefined and reserved words in python that have special meanings. Keywords are used to define the syntax of the coding. The keyword cannot be used as an identifier, function, and variable name. All the keywords in python are written in lower case except True and False. There are 33 keywords in Python 3.7 let’s go through all of them one by one."
   ]
  },
  {
   "cell_type": "markdown",
   "id": "0d0b971a",
   "metadata": {},
   "source": [
    "# Q11. Can we use keywords as a variable? Support your answer with reason."
   ]
  },
  {
   "cell_type": "markdown",
   "id": "ee69d086",
   "metadata": {},
   "source": [
    "Keywords are some predefined and reserved words in python that have special meanings. Keywords are used to define the syntax of the coding. The keyword cannot be used as an identifier, function, and variable name. All the keywords in python are written in lower case except True and False. There are 33 keywords in Python 3.7 let’s go through all of them one by one.\n",
    "\n",
    "Below syntax show why we cant use keywords."
   ]
  },
  {
   "cell_type": "markdown",
   "id": "0b92a5d6",
   "metadata": {},
   "source": [
    "# Q12. What is indentation? What's the use of indentaion in Python?"
   ]
  },
  {
   "cell_type": "markdown",
   "id": "c4c227bf",
   "metadata": {},
   "source": [
    "Python indentation is a way of telling a Python interpreter that the group of statements belongs to a particular block of code. A block is a combination of all these statements. Block can be regarded as the grouping of statements for a specific purpose."
   ]
  },
  {
   "cell_type": "markdown",
   "id": "3b06d90f",
   "metadata": {},
   "source": [
    "# Q13. How can we throw some output in Python?"
   ]
  },
  {
   "cell_type": "markdown",
   "id": "4a676243",
   "metadata": {},
   "source": [
    "By using print() function"
   ]
  },
  {
   "cell_type": "markdown",
   "id": "ca2f8681",
   "metadata": {},
   "source": [
    "# Q14.  What are operators in Python?"
   ]
  },
  {
   "cell_type": "markdown",
   "id": "e18dc0ea",
   "metadata": {},
   "source": [
    "Opertors are special symbols that help carry out different type of operation like arthmetic,assignment, comparsion, logical, etc"
   ]
  },
  {
   "cell_type": "markdown",
   "id": "62db9be3",
   "metadata": {},
   "source": [
    "# Q15. What is difference between / and // operators?"
   ]
  },
  {
   "cell_type": "markdown",
   "id": "6eccfc3a",
   "metadata": {},
   "source": [
    "/ is regular division(returns float) and // is floor division(returns int)."
   ]
  },
  {
   "cell_type": "markdown",
   "id": "1d0780e1",
   "metadata": {},
   "source": [
    "# Q16. Write a code that gives following as an output.\n",
    "```\n",
    "iNeuroniNeuroniNeuroniNeuron\n",
    "```"
   ]
  },
  {
   "cell_type": "code",
   "execution_count": 1,
   "id": "a0208bf1",
   "metadata": {},
   "outputs": [
    {
     "name": "stdout",
     "output_type": "stream",
     "text": [
      "iNeuroniNeuroniNeuroniNeuron"
     ]
    }
   ],
   "source": [
    "s = 'iNeuron'\n",
    "for i in range(4):\n",
    "    print(s,end='')"
   ]
  },
  {
   "cell_type": "markdown",
   "id": "482d0f10",
   "metadata": {},
   "source": [
    "# Q17. Write a code to take a number as an input from the user and check if the number is odd or even."
   ]
  },
  {
   "cell_type": "code",
   "execution_count": 2,
   "id": "9978d47c",
   "metadata": {},
   "outputs": [
    {
     "name": "stdout",
     "output_type": "stream",
     "text": [
      "2\n",
      "number is even\n"
     ]
    }
   ],
   "source": [
    "user_input = input()\n",
    "num_input = int(user_input)\n",
    "if num_input%2 ==0:\n",
    "    print(\"number is even\")\n",
    "else:\n",
    "    print(\"Number is odd\")"
   ]
  },
  {
   "cell_type": "markdown",
   "id": "8355918a",
   "metadata": {},
   "source": [
    "# Q18. What are boolean operator?"
   ]
  },
  {
   "cell_type": "markdown",
   "id": "5c56f09f",
   "metadata": {},
   "source": [
    "The logical operators and, or and not are also referred to as boolean operators. While and as well as or operator needs two operands, which may evaluate to true or false, not operator needs one operand evaluating to true or false."
   ]
  },
  {
   "cell_type": "markdown",
   "id": "2afd5092",
   "metadata": {},
   "source": [
    "# Q19. What will the output of the following?\n",
    "```\n",
    "1 or 0\n",
    "\n",
    "0 and 0\n",
    "\n",
    "True and False and True\n",
    "\n",
    "1 or 0 or 0\n",
    "```"
   ]
  },
  {
   "cell_type": "markdown",
   "id": "8ec7ff44",
   "metadata": {},
   "source": [
    "1 or 0 is True....<br>\n",
    "0 and 0 is False....<br>\n",
    "True and False and True is False....<br>\n",
    "1 or 0 or 0 is True.<br>"
   ]
  },
  {
   "cell_type": "markdown",
   "id": "06853ce8",
   "metadata": {},
   "source": [
    "# Q20. What are conditional statements in Python?"
   ]
  },
  {
   "cell_type": "markdown",
   "id": "08ae0d57",
   "metadata": {},
   "source": [
    "In a Python program, the if statement is how you perform this sort of decision-making. It allows for conditional execution of a statement or group of statements based on the value of an expression."
   ]
  },
  {
   "cell_type": "markdown",
   "id": "c080178e",
   "metadata": {},
   "source": [
    "# Q21. What is use of 'if', 'elif' and 'else' keywords?"
   ]
  },
  {
   "cell_type": "markdown",
   "id": "1ad2b7eb",
   "metadata": {},
   "source": [
    "They help in decision making to choose a certain path of code flow depending on the evaluaiton of the expression."
   ]
  },
  {
   "cell_type": "markdown",
   "id": "d67c73e4",
   "metadata": {},
   "source": [
    "# Q22. Write a code to take the age of person as an input and if age >= 18 display \"I can vote\". If age is < 18 display \"I can't vote\"."
   ]
  },
  {
   "cell_type": "code",
   "execution_count": 3,
   "id": "c17afaff",
   "metadata": {},
   "outputs": [
    {
     "name": "stdout",
     "output_type": "stream",
     "text": [
      "22\n",
      "I can vote\n"
     ]
    }
   ],
   "source": [
    "user_input = input()\n",
    "age= int(user_input)\n",
    "\n",
    "if age >=18:\n",
    "    print(\"I can vote\")\n",
    "    \n",
    "if age <18:\n",
    "    print(\"I can't vote\")"
   ]
  },
  {
   "cell_type": "markdown",
   "id": "b22773ab",
   "metadata": {},
   "source": [
    "# Q23. Write a code that displays the sum of all the even numbers from the given list."
   ]
  },
  {
   "cell_type": "code",
   "execution_count": 4,
   "id": "0f4d5818",
   "metadata": {},
   "outputs": [
    {
     "name": "stdout",
     "output_type": "stream",
     "text": [
      "392\n"
     ]
    }
   ],
   "source": [
    "numbers = [12, 75, 150, 180, 145, 525, 50]\n",
    "sum=0;\n",
    "for num in numbers:\n",
    "    if num%2==0:\n",
    "      sum+=num;\n",
    "    \n",
    "print(sum)    "
   ]
  },
  {
   "cell_type": "markdown",
   "id": "723f4509",
   "metadata": {},
   "source": [
    "# Q24. Write a code to take 3 numbers as an input from the user and display the greatest no as output."
   ]
  },
  {
   "cell_type": "code",
   "execution_count": 14,
   "id": "784a2395",
   "metadata": {},
   "outputs": [
    {
     "name": "stdout",
     "output_type": "stream",
     "text": [
      "Enter one number\n",
      "22\n",
      "Enter one number\n",
      "1\n",
      "Enter one number\n",
      "23\n",
      "greatest of 22,1,23, is:23\n"
     ]
    }
   ],
   "source": [
    "print('Enter one number')\n",
    "num1=input()\n",
    "n1=int(num1)\n",
    "print('Enter one number')\n",
    "num2=input()\n",
    "n2=int(num2)\n",
    "if(n1>n2):\n",
    "    res=n1;\n",
    "else:\n",
    "    res=n2;\n",
    "\n",
    "print('Enter one number')\n",
    "num3=input()\n",
    "n3=int(num3)\n",
    "if(res<n3):\n",
    "    res=n3\n",
    "    \n",
    "res = str(res)    \n",
    "print('greatest of '+num1+','+num2+','+num3+', is:'+ res)\n"
   ]
  },
  {
   "cell_type": "markdown",
   "id": "82a09cf4",
   "metadata": {},
   "source": [
    "# Q25. Write a program to display only those numbers from a list that satisfy the following conditions\n",
    "- The number must be divisible by five\n",
    "\n",
    "- If the number is greater than 150, then skip it and move to the next number\n",
    "\n",
    "- If the number is greater than 500, then stop the loop\n",
    "```\n",
    "numbers = [12, 75, 150, 180, 145, 525, 50]\n",
    "```"
   ]
  },
  {
   "cell_type": "code",
   "execution_count": 5,
   "id": "8a2cca93",
   "metadata": {},
   "outputs": [
    {
     "name": "stdout",
     "output_type": "stream",
     "text": [
      "75\n",
      "150\n",
      "145\n"
     ]
    }
   ],
   "source": [
    "numbers = [12, 75, 150, 180, 145, 525, 50]\n",
    "for num in numbers:\n",
    "    if(num>500):\n",
    "        break;\n",
    "    elif(num % 5==0 and num<=150):\n",
    "        print(num)"
   ]
  },
  {
   "cell_type": "code",
   "execution_count": null,
   "id": "bbb6b78b",
   "metadata": {},
   "outputs": [],
   "source": []
  }
 ],
 "metadata": {
  "kernelspec": {
   "display_name": "Python 3 (ipykernel)",
   "language": "python",
   "name": "python3"
  },
  "language_info": {
   "codemirror_mode": {
    "name": "ipython",
    "version": 3
   },
   "file_extension": ".py",
   "mimetype": "text/x-python",
   "name": "python",
   "nbconvert_exporter": "python",
   "pygments_lexer": "ipython3",
   "version": "3.9.13"
  }
 },
 "nbformat": 4,
 "nbformat_minor": 5
}
